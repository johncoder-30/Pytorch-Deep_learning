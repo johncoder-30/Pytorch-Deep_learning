{
  "nbformat": 4,
  "nbformat_minor": 0,
  "metadata": {
    "colab": {
      "name": "sentiment_analysis.ipynb",
      "provenance": [],
      "collapsed_sections": [],
      "authorship_tag": "ABX9TyO+Dn2S2ZEd+zRfniZmec7v",
      "include_colab_link": true
    },
    "kernelspec": {
      "display_name": "Python 3",
      "name": "python3"
    },
    "language_info": {
      "name": "python"
    },
    "accelerator": "GPU"
  },
  "cells": [
    {
      "cell_type": "markdown",
      "metadata": {
        "id": "view-in-github",
        "colab_type": "text"
      },
      "source": [
        "<a href=\"https://colab.research.google.com/github/johncoder-30/Pytorch-Deep_learning/blob/master/sentiment_analysis.ipynb\" target=\"_parent\"><img src=\"https://colab.research.google.com/assets/colab-badge.svg\" alt=\"Open In Colab\"/></a>"
      ]
    },
    {
      "cell_type": "code",
      "metadata": {
        "id": "QiIiu8dHnBYA"
      },
      "source": [
        "import torch\n",
        "import pandas as pd\n",
        "from sklearn.model_selection import train_test_split\n",
        "import re\n",
        "from collections import Counter\n",
        "from nltk.corpus import stopwords\n",
        "import torch.nn as nn\n",
        "import numpy as np\n",
        "from torch.utils.data import TensorDataset,DataLoader"
      ],
      "execution_count": null,
      "outputs": []
    },
    {
      "cell_type": "code",
      "metadata": {
        "colab": {
          "base_uri": "https://localhost:8080/"
        },
        "id": "uu70T6sIoflM",
        "outputId": "1b016641-3fdd-4a6c-acf9-67158489e789"
      },
      "source": [
        "# import nltk\n",
        "# nltk.download('stopwords')\n",
        "\n",
        "if torch.cuda.is_available():\n",
        "    device = torch.device(\"cuda\")\n",
        "    print(\"GPU is available\")\n",
        "else:\n",
        "    device = torch.device(\"cpu\")\n",
        "    print(\"GPU not available, CPU used\")"
      ],
      "execution_count": null,
      "outputs": [
        {
          "output_type": "stream",
          "name": "stdout",
          "text": [
            "GPU is available\n"
          ]
        }
      ]
    },
    {
      "cell_type": "code",
      "metadata": {
        "id": "vcoxkdYgor98",
        "colab": {
          "base_uri": "https://localhost:8080/"
        },
        "outputId": "dbe2b3be-3caf-4d01-b47d-4c037dcbec05"
      },
      "source": [
        "! pip install kaggle\n",
        "! mkdir ~/.kaggle\n",
        "! cp kaggle.json ~/.kaggle/\n",
        "! chmod 600 ~/.kaggle/kaggle.json\n",
        "# ! kaggle datasets list\n",
        "# ! kaggle competitions download <name-of-competition>\n",
        "! kaggle datasets download lakshmi25npathi/imdb-dataset-of-50k-movie-reviews\n",
        "! unzip imdb-dataset-of-50k-movie-reviews.zip\n"
      ],
      "execution_count": null,
      "outputs": [
        {
          "output_type": "stream",
          "name": "stdout",
          "text": [
            "Requirement already satisfied: kaggle in /usr/local/lib/python3.7/dist-packages (1.5.12)\n",
            "Requirement already satisfied: six>=1.10 in /usr/local/lib/python3.7/dist-packages (from kaggle) (1.15.0)\n",
            "Requirement already satisfied: certifi in /usr/local/lib/python3.7/dist-packages (from kaggle) (2021.10.8)\n",
            "Requirement already satisfied: urllib3 in /usr/local/lib/python3.7/dist-packages (from kaggle) (1.24.3)\n",
            "Requirement already satisfied: tqdm in /usr/local/lib/python3.7/dist-packages (from kaggle) (4.62.3)\n",
            "Requirement already satisfied: python-slugify in /usr/local/lib/python3.7/dist-packages (from kaggle) (5.0.2)\n",
            "Requirement already satisfied: requests in /usr/local/lib/python3.7/dist-packages (from kaggle) (2.23.0)\n",
            "Requirement already satisfied: python-dateutil in /usr/local/lib/python3.7/dist-packages (from kaggle) (2.8.2)\n",
            "Requirement already satisfied: text-unidecode>=1.3 in /usr/local/lib/python3.7/dist-packages (from python-slugify->kaggle) (1.3)\n",
            "Requirement already satisfied: chardet<4,>=3.0.2 in /usr/local/lib/python3.7/dist-packages (from requests->kaggle) (3.0.4)\n",
            "Requirement already satisfied: idna<3,>=2.5 in /usr/local/lib/python3.7/dist-packages (from requests->kaggle) (2.10)\n",
            "mkdir: cannot create directory ‘/root/.kaggle’: File exists\n",
            "Downloading imdb-dataset-of-50k-movie-reviews.zip to /content\n",
            " 78% 20.0M/25.7M [00:01<00:00, 14.9MB/s]\n",
            "100% 25.7M/25.7M [00:01<00:00, 23.1MB/s]\n",
            "Archive:  imdb-dataset-of-50k-movie-reviews.zip\n",
            "  inflating: IMDB Dataset.csv        \n"
          ]
        }
      ]
    },
    {
      "cell_type": "code",
      "metadata": {
        "id": "k0DcJ9ZmsKli"
      },
      "source": [
        "data = pd.read_csv('./IMDB Dataset.csv')\n",
        "\n",
        "# print(data.head(5))\n",
        "# print(len(data))\n",
        "x, y = data['review'].values, data['sentiment'].values\n",
        "x_train, x_test, y_train, y_test = train_test_split(x, y, test_size=0.2, stratify=y,shuffle=True)\n",
        "# unique, counts = np.unique(y_train, return_counts=True)\n",
        "# print(dict(zip(unique, counts)))\n",
        "# unique, counts = np.unique(y_test, return_counts=True)\n",
        "# print(dict(zip(unique, counts)))"
      ],
      "execution_count": null,
      "outputs": []
    },
    {
      "cell_type": "code",
      "metadata": {
        "id": "HyK3Lz9NslXj"
      },
      "source": [
        "def preprocess(s):\n",
        "    s = re.sub(r'[^\\w\\s]', '', s)\n",
        "    s = re.sub(r'[\\d+]', '', s)\n",
        "    s = re.sub(r'<[a-z]*>', '', s)\n",
        "    return s\n",
        "\n",
        "\n",
        "# print(preprocess('asdf adsf4# <as> dfse3  sgd'))\n",
        "# stop_words = set(stopwords.words('english'))\n",
        "\n",
        "words = []\n",
        "for i in x_train:\n",
        "    i = re.sub(r'\\<[^>]*\\>', '', i)\n",
        "    i = re.sub(r'\\s+', ' ', i)\n",
        "    for j in i.split():\n",
        "        word_ = preprocess(j.lower())\n",
        "        # if (word_ not in stop_words) and (word_ != ''):\n",
        "        #     words.append(word_)\n",
        "        if word_ != '':\n",
        "            words.append(word_)\n",
        "\n",
        "corpus = Counter(words)\n",
        "corpus = sorted(corpus, reverse=True, key=corpus.get)[:998]\n",
        "corpus = ['_pad', '_unk'] + corpus\n",
        "# print(corpus)\n",
        "# onehot_dict = {w: i + 1 for i, w in enumerate(corpus)}\n",
        "# print(len(onehot_dict))\n",
        "word2idx = {w: i for i, w in enumerate(corpus)}\n",
        "idx2word = {i: w for i, w in enumerate(corpus)}"
      ],
      "execution_count": null,
      "outputs": []
    },
    {
      "cell_type": "code",
      "metadata": {
        "id": "Hcv018ECs3aN",
        "colab": {
          "base_uri": "https://localhost:8080/"
        },
        "outputId": "9657de9a-bbdb-4041-81aa-9188d65fd61a"
      },
      "source": [
        "def sentence_encoder(sen):\n",
        "    y = []\n",
        "    for i in sen:\n",
        "        x = [word2idx[preprocess(word)] if preprocess(word) in word2idx else 0 for word in i.lower().split()]\n",
        "        y.append(x)\n",
        "    return y\n",
        "\n",
        "def pading(sen, length):\n",
        "    x = np.zeros((len(sen), length))\n",
        "    for i, line in enumerate(sen):\n",
        "        x[i, -len(line):] = np.array(line)[:length]\n",
        "    return x\n",
        "\n",
        "x_train_encoded=sentence_encoder(x_train)\n",
        "x_train_paded=pading(x_train_encoded,200)\n",
        "y_train_encoded=[1 if yy =='positive' else 0 for yy in y_train]\n",
        "y_train=np.array(y_train_encoded)\n",
        "unique, counts = np.unique(y_train, return_counts=True)\n",
        "print(dict(zip(unique, counts)))\n",
        "# print(y_train_encoded)\n",
        "train_dataset = TensorDataset(torch.from_numpy(x_train_paded),torch.from_numpy(y_train))\n",
        "train_loader = DataLoader(train_dataset,batch_size=64)\n",
        "\n",
        "x_test_encoded=sentence_encoder(x_test)\n",
        "x_test_paded=pading(x_test_encoded,200)\n",
        "y_test_encoded=[1 if yy =='positive' else 0 for yy in y_test]\n",
        "y_test=np.array(y_test_encoded)\n",
        "unique, counts = np.unique(y_test, return_counts=True)\n",
        "print(dict(zip(unique, counts)))\n",
        "test_dataset = TensorDataset(torch.from_numpy(x_test_paded),torch.from_numpy(y_test))\n",
        "test_loader = DataLoader(test_dataset,batch_size=64)"
      ],
      "execution_count": null,
      "outputs": [
        {
          "output_type": "stream",
          "name": "stdout",
          "text": [
            "{0: 20000, 1: 20000}\n",
            "{0: 5000, 1: 5000}\n"
          ]
        }
      ]
    },
    {
      "cell_type": "code",
      "metadata": {
        "id": "EvyTOlm7uAXP"
      },
      "source": [
        "class Sentiment(nn.Module):\n",
        "    def __init__(self, vocab_size, output_size, embedding_dim, hidden_dim, n_layers, drop_prob=0.5):\n",
        "        super(Sentiment,self).__init__()\n",
        "        self.output_size = output_size\n",
        "        self.n_layers = n_layers\n",
        "        self.hidden_dim = hidden_dim\n",
        "        \n",
        "        self.embedding = nn.Embedding(vocab_size, embedding_dim)\n",
        "        self.lstm = nn.LSTM(embedding_dim, hidden_dim, n_layers, dropout=drop_prob, batch_first=True)\n",
        "        self.dropout = nn.Dropout(drop_prob)\n",
        "        self.fc = nn.Linear(hidden_dim, output_size)\n",
        "        self.sigmoid = nn.Sigmoid()\n",
        "    \n",
        "    def forward(self,x,hid):\n",
        "        batch_size = x.size(0)\n",
        "        embeds = self.embedding(x)\n",
        "        lstm_out, hidden = self.lstm(embeds, hid)\n",
        "        lstm_out = lstm_out[:,-1,:]\n",
        "        \n",
        "        out = self.dropout(lstm_out)\n",
        "        out = self.fc(out)\n",
        "        out = self.sigmoid(out)\n",
        "        return out, hidden"
      ],
      "execution_count": null,
      "outputs": []
    },
    {
      "cell_type": "code",
      "metadata": {
        "id": "3SKbIntvOog5"
      },
      "source": [
        "vocab_size=len(word2idx)\n",
        "output_size = 1\n",
        "embedding_dim = 100\n",
        "hidden_dim = 50\n",
        "n_layers = 2\n",
        "batch_size = 64\n",
        "\n",
        "model=Sentiment(vocab_size,output_size,embedding_dim,hidden_dim,n_layers)\n",
        "model.to(device)\n",
        "criterion = nn.BCELoss()\n",
        "optimizer = torch.optim.Adam(model.parameters(),lr=0.001)"
      ],
      "execution_count": null,
      "outputs": []
    },
    {
      "cell_type": "code",
      "metadata": {
        "colab": {
          "base_uri": "https://localhost:8080/"
        },
        "id": "QYH-vw453s9D",
        "outputId": "33ebe197-0e79-4687-dba2-92ac880c0d16"
      },
      "source": [
        "model.train()\n",
        "for e in range(10):\n",
        "    for i,(review,label) in enumerate(train_loader):\n",
        "        batch_size=review.shape[0]\n",
        "        h0=torch.zeros(n_layers,batch_size,hidden_dim).to(device)\n",
        "        c0=torch.zeros(n_layers,batch_size,hidden_dim).to(device)\n",
        "        h=(h0,c0)\n",
        "        model_out,h=model(review.long().to(device),h)\n",
        "        loss=criterion(model_out.squeeze(),label.float().to(device))\n",
        "        loss.backward()\n",
        "        optimizer.step()\n",
        "        optimizer.zero_grad()\n",
        "    print(e,loss.item())    "
      ],
      "execution_count": null,
      "outputs": [
        {
          "output_type": "stream",
          "name": "stdout",
          "text": [
            "0 0.5895379781723022\n",
            "1 0.43732044100761414\n",
            "2 0.7048697471618652\n",
            "3 0.5946943759918213\n",
            "4 0.33692270517349243\n",
            "5 0.3034355044364929\n",
            "6 0.24483713507652283\n",
            "7 0.21968568861484528\n",
            "8 0.20978952944278717\n",
            "9 0.18985062837600708\n"
          ]
        }
      ]
    },
    {
      "cell_type": "code",
      "metadata": {
        "id": "NclLJzh1XW0K",
        "colab": {
          "base_uri": "https://localhost:8080/"
        },
        "outputId": "c85ba7f6-6941-4eac-c8b6-48a813bec7ca"
      },
      "source": [
        "num_correct = 0\n",
        "model.eval()\n",
        "for review,label in test_loader:\n",
        "    batch_size=review.shape[0]\n",
        "    h0=torch.zeros(n_layers,batch_size,hidden_dim).to(device)\n",
        "    c0=torch.zeros(n_layers,batch_size,hidden_dim).to(device)\n",
        "    h=(h0,c0)\n",
        "    pred,h=model(review.long().to(device),h)\n",
        "    pred=pred.round()\n",
        "    correct_tensor = pred.cpu().eq(label.float().view_as(pred.to('cpu')))\n",
        "    correct = np.squeeze(correct_tensor.cpu().numpy())\n",
        "    num_correct += np.sum(correct)\n",
        "print(num_correct)\n",
        "\n",
        "test_acc = num_correct/len(test_loader.dataset)\n",
        "print(\"Test accuracy: {:.3f}%\".format(test_acc*100))\n",
        "\n"
      ],
      "execution_count": null,
      "outputs": [
        {
          "output_type": "stream",
          "name": "stdout",
          "text": [
            "8447\n",
            "Test accuracy: 84.470%\n"
          ]
        }
      ]
    }
  ]
}